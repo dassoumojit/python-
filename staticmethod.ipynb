{
 "cells": [
  {
   "cell_type": "code",
   "execution_count": 8,
   "id": "f6197507-5115-418f-91aa-feeb0634801e",
   "metadata": {},
   "outputs": [],
   "source": [
    "class pwskills :\n",
    "    def student_details(self , name , email , number ):\n",
    "        print(name , email , number )\n",
    "    @staticmethod\n",
    "    def mentor_mail_id(mail_id_mentor):\n",
    "        print(mail_id_mentor)\n",
    "        \n",
    "    @staticmethod\n",
    "    def mentor_class(list_mentor):\n",
    "        pwskills.mentor_mail_id([\"soumo@gmail.com\",\"soumojit@7gmail.com\"])\n",
    "        print(list_mentor)\n",
    "        \n",
    "    @classmethod\n",
    "    def class_name(cls):\n",
    "        cls.mentor_class([\"soumo\",\"dohi\"])\n",
    "        \n",
    "        \n",
    "    def mentor(self , mentor_list):\n",
    "        print(mentor_list)\n",
    "        "
   ]
  },
  {
   "cell_type": "code",
   "execution_count": null,
   "id": "3a744e68-7d6b-442b-b157-354bfdb4f071",
   "metadata": {},
   "outputs": [],
   "source": []
  },
  {
   "cell_type": "code",
   "execution_count": 6,
   "id": "f3834f34-18dd-4650-8f00-a6974bf6cdbd",
   "metadata": {},
   "outputs": [
    {
     "name": "stdout",
     "output_type": "stream",
     "text": [
      "['soumo@gmail.com', 'soumojit@7gmail.com']\n",
      "['sssss', 'soooo']\n"
     ]
    }
   ],
   "source": [
    "pwskills.mentor_class([\"sssss\" ,\"soooo\"])"
   ]
  },
  {
   "cell_type": "code",
   "execution_count": 10,
   "id": "87d0cb56-7f40-40d8-8c49-0c45b0750588",
   "metadata": {},
   "outputs": [
    {
     "name": "stdout",
     "output_type": "stream",
     "text": [
      "['soumo@gmail.com', 'soumojit@7gmail.com']\n",
      "['soumo', 'dohi']\n"
     ]
    }
   ],
   "source": [
    "pwskills.class_name()"
   ]
  },
  {
   "cell_type": "code",
   "execution_count": null,
   "id": "c39c2469-17fc-4875-997b-2a07b04f1a4e",
   "metadata": {},
   "outputs": [],
   "source": []
  },
  {
   "cell_type": "code",
   "execution_count": null,
   "id": "392cf48c-097b-48a4-905d-4391a0214906",
   "metadata": {},
   "outputs": [],
   "source": []
  },
  {
   "cell_type": "code",
   "execution_count": null,
   "id": "dfacf274-5f13-4283-a15d-6255762af833",
   "metadata": {},
   "outputs": [],
   "source": []
  },
  {
   "cell_type": "code",
   "execution_count": null,
   "id": "43f43cdc-5857-418f-9ebd-69ca76216aac",
   "metadata": {},
   "outputs": [],
   "source": []
  },
  {
   "cell_type": "code",
   "execution_count": null,
   "id": "bf03baad-56de-4a63-8d3e-e56ea682a327",
   "metadata": {},
   "outputs": [],
   "source": []
  }
 ],
 "metadata": {
  "kernelspec": {
   "display_name": "Python 3 (ipykernel)",
   "language": "python",
   "name": "python3"
  },
  "language_info": {
   "codemirror_mode": {
    "name": "ipython",
    "version": 3
   },
   "file_extension": ".py",
   "mimetype": "text/x-python",
   "name": "python",
   "nbconvert_exporter": "python",
   "pygments_lexer": "ipython3",
   "version": "3.10.6"
  }
 },
 "nbformat": 4,
 "nbformat_minor": 5
}
