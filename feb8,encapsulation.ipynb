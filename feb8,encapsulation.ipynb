{
 "cells": [
  {
   "cell_type": "code",
   "execution_count": 1,
   "id": "d0773530-726a-4ce0-b402-4d3e8894ba00",
   "metadata": {},
   "outputs": [],
   "source": [
    "#encapsulation\n",
    "#its keep variable private from user and it showns what we want to shown to user"
   ]
  },
  {
   "cell_type": "code",
   "execution_count": 4,
   "id": "1491518a-1bef-4570-aed8-13e3a6d8c5d0",
   "metadata": {},
   "outputs": [],
   "source": [
    "class car:\n",
    "    def __init__(self , year ,make, model , speed ) :\n",
    "        \n",
    "        self.__year = year\n",
    "        self.__make = make\n",
    "        self.__model = model\n",
    "        self.__speed = 0\n",
    "        "
   ]
  },
  {
   "cell_type": "code",
   "execution_count": 6,
   "id": "e6d6a58e-445c-4b49-abee-dcde6936564e",
   "metadata": {},
   "outputs": [],
   "source": [
    "c = car(2020 , \"toyata\" , \"innova\" , 12)"
   ]
  },
  {
   "cell_type": "code",
   "execution_count": 8,
   "id": "e7353936-779a-449e-a376-cb2d542c9fe9",
   "metadata": {},
   "outputs": [
    {
     "data": {
      "text/plain": [
       "2020"
      ]
     },
     "execution_count": 8,
     "metadata": {},
     "output_type": "execute_result"
    }
   ],
   "source": [
    "c._car__year"
   ]
  },
  {
   "cell_type": "code",
   "execution_count": null,
   "id": "e3408fa1-89e2-4781-95b3-84800678c04c",
   "metadata": {},
   "outputs": [],
   "source": []
  },
  {
   "cell_type": "code",
   "execution_count": 10,
   "id": "a6e15335-df52-48fe-bc81-b2579c9cadfe",
   "metadata": {},
   "outputs": [],
   "source": [
    "class car:\n",
    "    def __init__(self , year ,make, model , speed ) :\n",
    "        \n",
    "        self.__year = year\n",
    "        self.__make = make\n",
    "        self.__model = model\n",
    "        self.__speed = 0\n",
    "    \n",
    "    def set_speed(self,speed) :\n",
    "        self.__speed = 0 if speed<0 else speed\n",
    "    \n",
    "    def get_speed(self):\n",
    "        return self.__speed\n",
    "        "
   ]
  },
  {
   "cell_type": "code",
   "execution_count": 12,
   "id": "a9b01727-ec38-459d-9536-42e208b7159f",
   "metadata": {},
   "outputs": [],
   "source": [
    "c = car(2020 , \"soumo\" , \"insane\", 22)"
   ]
  },
  {
   "cell_type": "code",
   "execution_count": null,
   "id": "6915b30c-577a-41d0-863d-ed2b1905b8d6",
   "metadata": {},
   "outputs": [],
   "source": []
  },
  {
   "cell_type": "code",
   "execution_count": 14,
   "id": "88196e14-387a-4443-99b9-6bb6a40e7b12",
   "metadata": {},
   "outputs": [],
   "source": [
    "c.set_speed(-23)"
   ]
  },
  {
   "cell_type": "code",
   "execution_count": null,
   "id": "5f6aa1f4-c91d-400a-9232-537df4fe9952",
   "metadata": {},
   "outputs": [],
   "source": []
  },
  {
   "cell_type": "code",
   "execution_count": 15,
   "id": "f4310d92-4918-4678-ae47-e439fe8ad23d",
   "metadata": {},
   "outputs": [
    {
     "data": {
      "text/plain": [
       "0"
      ]
     },
     "execution_count": 15,
     "metadata": {},
     "output_type": "execute_result"
    }
   ],
   "source": [
    "c.get_speed()"
   ]
  },
  {
   "cell_type": "code",
   "execution_count": 16,
   "id": "4ab8003a-fae0-45f3-90e1-6d6ecebfabfc",
   "metadata": {},
   "outputs": [],
   "source": [
    "c.set_speed(30)"
   ]
  },
  {
   "cell_type": "code",
   "execution_count": 17,
   "id": "37372981-7526-4df0-a866-0e3de9193e99",
   "metadata": {},
   "outputs": [
    {
     "data": {
      "text/plain": [
       "30"
      ]
     },
     "execution_count": 17,
     "metadata": {},
     "output_type": "execute_result"
    }
   ],
   "source": [
    "c.get_speed()"
   ]
  },
  {
   "cell_type": "code",
   "execution_count": 36,
   "id": "07b3909e-16b8-41c1-a98d-5c998fa6d429",
   "metadata": {},
   "outputs": [],
   "source": [
    "class bank_account :\n",
    "    def __init__(self , balance):\n",
    "        self.__balance = balance\n",
    "    \n",
    "    def deposit(self , amount):\n",
    "        self.__balance = self.__balance + amount\n",
    "        \n",
    "    def withdraw(self , amount):\n",
    "        if self.__balance >= amount :\n",
    "            self.__balance = self.__balance - amount\n",
    "            return True\n",
    "        else :\n",
    "            return False\n",
    "    def get_balance(self):\n",
    "        return self.__balance\n",
    "        "
   ]
  },
  {
   "cell_type": "code",
   "execution_count": null,
   "id": "bb740dff-cd6d-44a0-a9f8-637d17f6efe6",
   "metadata": {},
   "outputs": [],
   "source": []
  },
  {
   "cell_type": "code",
   "execution_count": 37,
   "id": "cabb4a37-8201-4c14-927f-10cd411d9720",
   "metadata": {},
   "outputs": [],
   "source": [
    "soumo = bank_account(111111111)"
   ]
  },
  {
   "cell_type": "code",
   "execution_count": null,
   "id": "186dc7dc-e385-4b4f-bef8-0c590812b7db",
   "metadata": {},
   "outputs": [],
   "source": []
  },
  {
   "cell_type": "code",
   "execution_count": 38,
   "id": "252da298-d34b-4005-b271-341664e5bab3",
   "metadata": {},
   "outputs": [
    {
     "data": {
      "text/plain": [
       "111111111"
      ]
     },
     "execution_count": 38,
     "metadata": {},
     "output_type": "execute_result"
    }
   ],
   "source": [
    "soumo.get_balance()"
   ]
  },
  {
   "cell_type": "code",
   "execution_count": null,
   "id": "00a46d68-f8a6-4c2e-a2d8-f4fadbb1c22c",
   "metadata": {},
   "outputs": [],
   "source": []
  },
  {
   "cell_type": "code",
   "execution_count": 39,
   "id": "394dccc2-2bd8-4212-a79a-bf65658e962c",
   "metadata": {},
   "outputs": [],
   "source": [
    "soumo.deposit(999999)"
   ]
  },
  {
   "cell_type": "code",
   "execution_count": null,
   "id": "d5cbe6f8-c2df-47b7-9a05-89626e230465",
   "metadata": {},
   "outputs": [],
   "source": []
  },
  {
   "cell_type": "code",
   "execution_count": 40,
   "id": "8b122caf-6b4e-4f29-8b5c-53533ac1899c",
   "metadata": {},
   "outputs": [
    {
     "data": {
      "text/plain": [
       "112111110"
      ]
     },
     "execution_count": 40,
     "metadata": {},
     "output_type": "execute_result"
    }
   ],
   "source": [
    "soumo.get_balance()"
   ]
  },
  {
   "cell_type": "code",
   "execution_count": null,
   "id": "044a107e-062e-48c2-824a-07502f514246",
   "metadata": {},
   "outputs": [],
   "source": []
  },
  {
   "cell_type": "code",
   "execution_count": 41,
   "id": "a49033c8-f58c-41f2-a998-73349a16c696",
   "metadata": {},
   "outputs": [
    {
     "data": {
      "text/plain": [
       "True"
      ]
     },
     "execution_count": 41,
     "metadata": {},
     "output_type": "execute_result"
    }
   ],
   "source": [
    "soumo.withdraw(10000)"
   ]
  },
  {
   "cell_type": "code",
   "execution_count": null,
   "id": "9da9989f-e18a-4a15-b9d0-28463b60d3b9",
   "metadata": {},
   "outputs": [],
   "source": []
  },
  {
   "cell_type": "code",
   "execution_count": 42,
   "id": "48f91885-f4b6-459a-96c1-b404ffcf6f37",
   "metadata": {},
   "outputs": [
    {
     "data": {
      "text/plain": [
       "112101110"
      ]
     },
     "execution_count": 42,
     "metadata": {},
     "output_type": "execute_result"
    }
   ],
   "source": [
    "soumo.get_balance()"
   ]
  },
  {
   "cell_type": "code",
   "execution_count": 43,
   "id": "81a7888e-5f80-4800-adfe-b8587f3c9403",
   "metadata": {},
   "outputs": [
    {
     "data": {
      "text/plain": [
       "True"
      ]
     },
     "execution_count": 43,
     "metadata": {},
     "output_type": "execute_result"
    }
   ],
   "source": [
    "soumo.withdraw(1111111)"
   ]
  },
  {
   "cell_type": "code",
   "execution_count": null,
   "id": "a4275207-81f2-49da-b1e5-4d489317d7fe",
   "metadata": {},
   "outputs": [],
   "source": []
  },
  {
   "cell_type": "code",
   "execution_count": null,
   "id": "4a2bd735-d477-4a9f-ae4b-f94f476fcb13",
   "metadata": {},
   "outputs": [],
   "source": []
  },
  {
   "cell_type": "code",
   "execution_count": 44,
   "id": "09d984d3-9400-4b53-9566-c28dd57d5ad2",
   "metadata": {},
   "outputs": [
    {
     "data": {
      "text/plain": [
       "110989999"
      ]
     },
     "execution_count": 44,
     "metadata": {},
     "output_type": "execute_result"
    }
   ],
   "source": [
    "soumo.get_balance()"
   ]
  },
  {
   "cell_type": "code",
   "execution_count": null,
   "id": "10c33a87-220c-4ece-80f2-69797d09b0e4",
   "metadata": {},
   "outputs": [],
   "source": []
  },
  {
   "cell_type": "code",
   "execution_count": null,
   "id": "621db0f2-b8ce-4a83-b3de-216e6dc05d42",
   "metadata": {},
   "outputs": [],
   "source": []
  },
  {
   "cell_type": "code",
   "execution_count": null,
   "id": "4f05ba8f-95b8-43ef-8f68-45e88ff2b67e",
   "metadata": {},
   "outputs": [],
   "source": []
  },
  {
   "cell_type": "code",
   "execution_count": null,
   "id": "b5ec9f10-2dad-412a-aa23-12a4e4811942",
   "metadata": {},
   "outputs": [],
   "source": []
  },
  {
   "cell_type": "code",
   "execution_count": null,
   "id": "f0317cb9-4286-4712-8e92-9af2e583d29d",
   "metadata": {},
   "outputs": [],
   "source": []
  },
  {
   "cell_type": "code",
   "execution_count": null,
   "id": "18fd887b-d1a0-4fcb-9b8f-b5896283b553",
   "metadata": {},
   "outputs": [],
   "source": []
  },
  {
   "cell_type": "code",
   "execution_count": null,
   "id": "6c1c12ba-73cf-497d-b0e7-ba44d6610d7c",
   "metadata": {},
   "outputs": [],
   "source": []
  },
  {
   "cell_type": "code",
   "execution_count": null,
   "id": "42635598-f825-4fa9-838e-40f97cbed60b",
   "metadata": {},
   "outputs": [],
   "source": []
  },
  {
   "cell_type": "code",
   "execution_count": null,
   "id": "5cb6d2a9-5c5e-490f-a7bd-ecc6989668eb",
   "metadata": {},
   "outputs": [],
   "source": []
  },
  {
   "cell_type": "code",
   "execution_count": null,
   "id": "ef151bdd-c0d4-4e1b-a1b8-513acd313efc",
   "metadata": {},
   "outputs": [],
   "source": []
  },
  {
   "cell_type": "code",
   "execution_count": null,
   "id": "c9bcb080-b819-4c7d-b722-31778393c6b7",
   "metadata": {},
   "outputs": [],
   "source": []
  }
 ],
 "metadata": {
  "kernelspec": {
   "display_name": "Python 3 (ipykernel)",
   "language": "python",
   "name": "python3"
  },
  "language_info": {
   "codemirror_mode": {
    "name": "ipython",
    "version": 3
   },
   "file_extension": ".py",
   "mimetype": "text/x-python",
   "name": "python",
   "nbconvert_exporter": "python",
   "pygments_lexer": "ipython3",
   "version": "3.10.6"
  }
 },
 "nbformat": 4,
 "nbformat_minor": 5
}
