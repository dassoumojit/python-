{
 "cells": [
  {
   "cell_type": "code",
   "execution_count": 2,
   "id": "5a1c3060-3dab-4ba9-90f0-156ae3525e5e",
   "metadata": {},
   "outputs": [],
   "source": [
    "#polymorphism\n",
    "#its a entity which behaviours might be different for different context or situation.\n",
    "#thats mean multiple behaviour in a different , different kind of situation"
   ]
  },
  {
   "cell_type": "code",
   "execution_count": 17,
   "id": "aa12d81e-e4e4-4549-8979-c6754b45a88f",
   "metadata": {},
   "outputs": [],
   "source": [
    "class data_science :\n",
    "    def syllabus(self) :\n",
    "        print(\"this is my syllabus for data science master\")"
   ]
  },
  {
   "cell_type": "code",
   "execution_count": null,
   "id": "9e7d12eb-9ffd-4323-8c1a-cbd4cbafe9b0",
   "metadata": {},
   "outputs": [],
   "source": []
  },
  {
   "cell_type": "code",
   "execution_count": 31,
   "id": "977e33eb-8c04-463b-a09c-1eb0c04801ad",
   "metadata": {},
   "outputs": [],
   "source": [
    "class web_dev:\n",
    "    def syllabus(self) :\n",
    "        print(\"this is my syllabus for web dev\")\n",
    "        "
   ]
  },
  {
   "cell_type": "code",
   "execution_count": 28,
   "id": "da516bf6-c626-45bf-9cd4-bdeae40a936c",
   "metadata": {},
   "outputs": [],
   "source": [
    "def class_parcer(class_obj):\n",
    "    for i in class_obj :\n",
    "        i.syllabus()"
   ]
  },
  {
   "cell_type": "code",
   "execution_count": 27,
   "id": "e43fe5da-4210-401b-b4fa-acf2a2d20b0f",
   "metadata": {},
   "outputs": [],
   "source": [
    "web_dev = web_dev()"
   ]
  },
  {
   "cell_type": "code",
   "execution_count": 20,
   "id": "b45b8ad8-74e0-4ba6-8274-a09958f8f659",
   "metadata": {},
   "outputs": [],
   "source": [
    "data_science = data_science()"
   ]
  },
  {
   "cell_type": "code",
   "execution_count": 29,
   "id": "c7224e0a-d90c-4e9a-8fab-c7b84ccd710e",
   "metadata": {},
   "outputs": [],
   "source": [
    "class_obj = [data_science , web_dev]"
   ]
  },
  {
   "cell_type": "code",
   "execution_count": 30,
   "id": "9703256a-1cee-4039-a344-608cc562c816",
   "metadata": {},
   "outputs": [
    {
     "name": "stdout",
     "output_type": "stream",
     "text": [
      "this is my syllabus for data science master\n",
      "this is my syllabus for web dev\n"
     ]
    }
   ],
   "source": [
    "class_parcer(class_obj)"
   ]
  },
  {
   "cell_type": "code",
   "execution_count": null,
   "id": "a4b39665-f80c-4873-9c97-94f49adcd57c",
   "metadata": {},
   "outputs": [],
   "source": []
  },
  {
   "cell_type": "code",
   "execution_count": null,
   "id": "0d7cbd3d-92e1-4ef6-ba19-fd9ce7996357",
   "metadata": {},
   "outputs": [],
   "source": []
  },
  {
   "cell_type": "code",
   "execution_count": null,
   "id": "0de5c136-2378-4800-b0e4-c2dace6599e2",
   "metadata": {},
   "outputs": [],
   "source": []
  },
  {
   "cell_type": "code",
   "execution_count": null,
   "id": "66f23171-4e31-437a-b60b-b5649b1cf8b6",
   "metadata": {},
   "outputs": [],
   "source": []
  },
  {
   "cell_type": "code",
   "execution_count": null,
   "id": "75a7202d-93c6-41ed-8b13-43c22e43dfbb",
   "metadata": {},
   "outputs": [],
   "source": []
  },
  {
   "cell_type": "code",
   "execution_count": null,
   "id": "4be264c0-8277-40a8-8ad5-da950d1a7842",
   "metadata": {},
   "outputs": [],
   "source": []
  },
  {
   "cell_type": "code",
   "execution_count": null,
   "id": "02b55a5f-f50a-4141-95b9-f775b94a4d56",
   "metadata": {},
   "outputs": [],
   "source": []
  },
  {
   "cell_type": "code",
   "execution_count": null,
   "id": "52b51299-5d90-4f11-8631-05e7664279ec",
   "metadata": {},
   "outputs": [],
   "source": [
    "\n"
   ]
  },
  {
   "cell_type": "code",
   "execution_count": 4,
   "id": "7cb2ac51-67d4-414d-a401-3dc03cb5ee72",
   "metadata": {},
   "outputs": [],
   "source": [
    "class playing_football:\n",
    "    def playing(self) :\n",
    "        print(\"max 11 player can play this and there are 3 position in this game .those are forward,middle,diffence\")\n",
    "        "
   ]
  },
  {
   "cell_type": "code",
   "execution_count": 5,
   "id": "f5c5983f-1d72-4425-8e13-747a7519bbe6",
   "metadata": {},
   "outputs": [],
   "source": [
    "class playing_cricket:\n",
    "    def playing(self):\n",
    "        print(\"max 11 player can play this game and there are 3type of player we can call , those are batter,bowler,allrounder\")"
   ]
  },
  {
   "cell_type": "code",
   "execution_count": 6,
   "id": "2aca5f4e-1a10-4adc-978d-64597713f884",
   "metadata": {},
   "outputs": [],
   "source": [
    "def class_parcer(class_obj):\n",
    "    for i in class_obj :\n",
    "        i.playing()"
   ]
  },
  {
   "cell_type": "code",
   "execution_count": 7,
   "id": "2b7950e6-29c8-4c35-9af6-82b04890d71c",
   "metadata": {},
   "outputs": [],
   "source": [
    "playing_football = playing_football()"
   ]
  },
  {
   "cell_type": "code",
   "execution_count": 8,
   "id": "91ca0818-8e15-4d7f-956a-9e259d0d9547",
   "metadata": {},
   "outputs": [],
   "source": [
    "playing_cricket = playing_cricket()"
   ]
  },
  {
   "cell_type": "code",
   "execution_count": 9,
   "id": "c47bb111-8f3b-4669-a20e-66a32f847fb5",
   "metadata": {},
   "outputs": [],
   "source": [
    "class_obj = [playing_football , playing_cricket]"
   ]
  },
  {
   "cell_type": "code",
   "execution_count": 10,
   "id": "a4e19c91-9016-4a19-8245-dc9090493d6c",
   "metadata": {},
   "outputs": [
    {
     "name": "stdout",
     "output_type": "stream",
     "text": [
      "max 11 player can play this and there are 3 position in this game .those are forward,middle,diffence\n",
      "max 11 player can play this game and there are 3type of player we can call , those are batter,bowler,allrounder\n"
     ]
    }
   ],
   "source": [
    "class_parcer(class_obj)"
   ]
  },
  {
   "cell_type": "code",
   "execution_count": 32,
   "id": "1db0b3b4-c5e4-4d8e-b970-ff1b730bcf30",
   "metadata": {},
   "outputs": [],
   "source": [
    "#in computer sience, it describe the concept that you can access objects of different types trough the same interface."
   ]
  },
  {
   "cell_type": "code",
   "execution_count": 33,
   "id": "f044c9fa-053a-4d74-bc67-c1f3af33ffd4",
   "metadata": {},
   "outputs": [],
   "source": [
    "#we can define polymorphism as the abbility of a massage to be displayed in more than one form.a real life example of polymorphism is a person who at the same time can have different characteristics."
   ]
  },
  {
   "cell_type": "code",
   "execution_count": null,
   "id": "fb31a026-ccbe-4121-ad3a-f55665fa857a",
   "metadata": {},
   "outputs": [],
   "source": []
  },
  {
   "cell_type": "code",
   "execution_count": null,
   "id": "ebd07be6-aed1-4510-915a-73b246b68b2e",
   "metadata": {},
   "outputs": [],
   "source": []
  }
 ],
 "metadata": {
  "kernelspec": {
   "display_name": "Python 3 (ipykernel)",
   "language": "python",
   "name": "python3"
  },
  "language_info": {
   "codemirror_mode": {
    "name": "ipython",
    "version": 3
   },
   "file_extension": ".py",
   "mimetype": "text/x-python",
   "name": "python",
   "nbconvert_exporter": "python",
   "pygments_lexer": "ipython3",
   "version": "3.10.6"
  },
  "toc-autonumbering": true,
  "toc-showcode": true,
  "toc-showtags": false
 },
 "nbformat": 4,
 "nbformat_minor": 5
}
