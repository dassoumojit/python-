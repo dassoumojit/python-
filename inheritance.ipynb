{
 "cells": [
  {
   "cell_type": "code",
   "execution_count": 40,
   "id": "8a042089-2a7f-4893-b212-495f04d66721",
   "metadata": {},
   "outputs": [],
   "source": [
    "class test:\n",
    "    def test_sd(self):\n",
    "        return \"soumojit\""
   ]
  },
  {
   "cell_type": "code",
   "execution_count": 41,
   "id": "fcd45f42-0fce-4396-8ff7-7c6f1bb1a838",
   "metadata": {},
   "outputs": [],
   "source": [
    "class sr_test(test):\n",
    "    pass"
   ]
  },
  {
   "cell_type": "code",
   "execution_count": 42,
   "id": "a18577c7-40ff-4a9f-b99f-61fac3157173",
   "metadata": {},
   "outputs": [],
   "source": [
    "obj_sr_test= sr_test()"
   ]
  },
  {
   "cell_type": "code",
   "execution_count": 43,
   "id": "ed352372-ff6a-499a-be86-c9a743074b1f",
   "metadata": {},
   "outputs": [
    {
     "data": {
      "text/plain": [
       "'soumojit'"
      ]
     },
     "execution_count": 43,
     "metadata": {},
     "output_type": "execute_result"
    }
   ],
   "source": [
    "obj_sr_test.test_sd()"
   ]
  },
  {
   "cell_type": "code",
   "execution_count": 45,
   "id": "121b9aa2-57e6-4530-b1ed-8f2e9bd4fc10",
   "metadata": {},
   "outputs": [],
   "source": [
    "class tets1 :\n",
    "    def test_sd(self):\n",
    "        return \"i love myself\""
   ]
  },
  {
   "cell_type": "code",
   "execution_count": 46,
   "id": "b7816e20-2b6b-488a-8a9f-b2d15cffd7e4",
   "metadata": {},
   "outputs": [],
   "source": [
    "class test2(test1):\n",
    "    def test2_ta(self):\n",
    "        return \"i love soumo\""
   ]
  },
  {
   "cell_type": "code",
   "execution_count": 47,
   "id": "7d5b4eaa-35db-446e-a378-e12762d4eb91",
   "metadata": {},
   "outputs": [],
   "source": [
    "class test3(test2):\n",
    "    pass"
   ]
  },
  {
   "cell_type": "code",
   "execution_count": 49,
   "id": "7ed5d3ea-24f2-4025-b3fa-df7a12761be8",
   "metadata": {},
   "outputs": [],
   "source": [
    "obj_test3 = test3()"
   ]
  },
  {
   "cell_type": "code",
   "execution_count": 51,
   "id": "58b0c03c-01f1-4f30-b30c-3eae1ea7407f",
   "metadata": {},
   "outputs": [
    {
     "data": {
      "text/plain": [
       "'i love soumo'"
      ]
     },
     "execution_count": 51,
     "metadata": {},
     "output_type": "execute_result"
    }
   ],
   "source": [
    "obj_test3.test2_ta()"
   ]
  },
  {
   "cell_type": "code",
   "execution_count": 52,
   "id": "a0c06f86-9c66-4a20-afa8-7b10284640ac",
   "metadata": {},
   "outputs": [
    {
     "data": {
      "text/plain": [
       "'soumojit'"
      ]
     },
     "execution_count": 52,
     "metadata": {},
     "output_type": "execute_result"
    }
   ],
   "source": [
    "obj_test3.test_sd()"
   ]
  },
  {
   "cell_type": "code",
   "execution_count": null,
   "id": "69a38b3b-dcc0-4b0f-a49d-fd22771b93a6",
   "metadata": {},
   "outputs": [],
   "source": []
  },
  {
   "cell_type": "code",
   "execution_count": null,
   "id": "89e3459e-3971-4c44-b97b-9902ae973de9",
   "metadata": {},
   "outputs": [],
   "source": []
  },
  {
   "cell_type": "code",
   "execution_count": null,
   "id": "291ca762-0304-49c9-9ef1-99b699134f95",
   "metadata": {},
   "outputs": [],
   "source": []
  },
  {
   "cell_type": "code",
   "execution_count": null,
   "id": "600ac026-92e6-42c7-a78f-fa2b0f1e442e",
   "metadata": {},
   "outputs": [],
   "source": []
  },
  {
   "cell_type": "code",
   "execution_count": null,
   "id": "39800401-3dcc-44e3-9314-ce0c2e8aca34",
   "metadata": {},
   "outputs": [],
   "source": []
  },
  {
   "cell_type": "code",
   "execution_count": null,
   "id": "cc00f01f-703c-402e-9f14-55143b126adb",
   "metadata": {},
   "outputs": [],
   "source": []
  },
  {
   "cell_type": "code",
   "execution_count": null,
   "id": "82cb1da3-1c0d-4789-a341-3f2157558e18",
   "metadata": {},
   "outputs": [],
   "source": []
  },
  {
   "cell_type": "code",
   "execution_count": null,
   "id": "dfe66d95-e965-4924-9462-392417cc5393",
   "metadata": {},
   "outputs": [],
   "source": []
  },
  {
   "cell_type": "code",
   "execution_count": null,
   "id": "3a316e6e-6615-4dd4-ada8-69f027b0071a",
   "metadata": {},
   "outputs": [],
   "source": []
  },
  {
   "cell_type": "code",
   "execution_count": null,
   "id": "c6dbe682-54f2-4d2f-b620-799c26267be7",
   "metadata": {},
   "outputs": [],
   "source": []
  },
  {
   "cell_type": "code",
   "execution_count": null,
   "id": "fcd155c9-808b-4a78-9dc9-07809f079f1d",
   "metadata": {},
   "outputs": [],
   "source": []
  },
  {
   "cell_type": "code",
   "execution_count": null,
   "id": "a9402b4a-d12b-4ac3-a759-6e505cdd1619",
   "metadata": {},
   "outputs": [],
   "source": []
  },
  {
   "cell_type": "code",
   "execution_count": null,
   "id": "abcdd146-0f1d-4440-a58a-53cc2381accc",
   "metadata": {},
   "outputs": [],
   "source": []
  },
  {
   "cell_type": "code",
   "execution_count": null,
   "id": "78f703c2-959b-4c99-908a-dda7e9bd7835",
   "metadata": {},
   "outputs": [],
   "source": []
  },
  {
   "cell_type": "code",
   "execution_count": null,
   "id": "fdf53cff-7721-44d7-8a65-6177f3cd795c",
   "metadata": {},
   "outputs": [],
   "source": []
  },
  {
   "cell_type": "code",
   "execution_count": null,
   "id": "4d8e1245-7ea6-479e-aacd-06bf47206132",
   "metadata": {},
   "outputs": [],
   "source": []
  },
  {
   "cell_type": "code",
   "execution_count": null,
   "id": "6baede4e-06ff-4785-bc4c-0e5bf09077e3",
   "metadata": {},
   "outputs": [],
   "source": []
  },
  {
   "cell_type": "code",
   "execution_count": null,
   "id": "775b7b9d-981f-45ca-a771-0a58aad09e0c",
   "metadata": {},
   "outputs": [],
   "source": []
  },
  {
   "cell_type": "code",
   "execution_count": null,
   "id": "1a0133be-9488-418c-af2c-756756d9855c",
   "metadata": {},
   "outputs": [],
   "source": []
  },
  {
   "cell_type": "code",
   "execution_count": null,
   "id": "cbdc5bdf-d6d2-4304-b8ad-8f3141465d0d",
   "metadata": {},
   "outputs": [],
   "source": []
  },
  {
   "cell_type": "code",
   "execution_count": null,
   "id": "86ebde40-b204-4ebb-adbd-f08e8c1171c0",
   "metadata": {},
   "outputs": [],
   "source": []
  },
  {
   "cell_type": "code",
   "execution_count": null,
   "id": "df3cd197-2e24-4591-8f20-7091f856f30b",
   "metadata": {},
   "outputs": [],
   "source": []
  },
  {
   "cell_type": "code",
   "execution_count": null,
   "id": "57922978-4886-4438-95f5-448061ac2e1f",
   "metadata": {},
   "outputs": [],
   "source": []
  },
  {
   "cell_type": "code",
   "execution_count": null,
   "id": "b843a97a-246e-4510-a711-e5a8a085ed36",
   "metadata": {},
   "outputs": [],
   "source": []
  }
 ],
 "metadata": {
  "kernelspec": {
   "display_name": "Python 3 (ipykernel)",
   "language": "python",
   "name": "python3"
  },
  "language_info": {
   "codemirror_mode": {
    "name": "ipython",
    "version": 3
   },
   "file_extension": ".py",
   "mimetype": "text/x-python",
   "name": "python",
   "nbconvert_exporter": "python",
   "pygments_lexer": "ipython3",
   "version": "3.10.6"
  }
 },
 "nbformat": 4,
 "nbformat_minor": 5
}
