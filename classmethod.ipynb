{
 "cells": [
  {
   "cell_type": "code",
   "execution_count": 2,
   "id": "a56b9cf2-15a2-4dfb-bcc7-832ae18b5a0e",
   "metadata": {},
   "outputs": [],
   "source": [
    "class pwskill :\n",
    "    \n",
    "    def __init__(self , name ,email):\n",
    "        \n",
    "        self.name = name\n",
    "        self.email = email \n",
    "    @classmethod    \n",
    "    def details(cls , name , email):\n",
    "        return cls(name,email)\n",
    "    def students_details(self):\n",
    "        print(self.name , self.email)"
   ]
  },
  {
   "cell_type": "code",
   "execution_count": 6,
   "id": "410ad6bc-e91a-4b7c-a4f1-46a6ba088877",
   "metadata": {},
   "outputs": [],
   "source": [
    "pw = pwskill.details(\"soumo\" ,\"soumo7@gamil.com\")"
   ]
  },
  {
   "cell_type": "code",
   "execution_count": 7,
   "id": "b9512751-6a53-433d-85f0-d52f7e9be5b6",
   "metadata": {},
   "outputs": [
    {
     "data": {
      "text/plain": [
       "'soumo'"
      ]
     },
     "execution_count": 7,
     "metadata": {},
     "output_type": "execute_result"
    }
   ],
   "source": [
    "pw.name"
   ]
  },
  {
   "cell_type": "code",
   "execution_count": 8,
   "id": "2b5b3c7e-8610-4bae-92ef-07b7244435c8",
   "metadata": {},
   "outputs": [
    {
     "data": {
      "text/plain": [
       "'soumo7@gamil.com'"
      ]
     },
     "execution_count": 8,
     "metadata": {},
     "output_type": "execute_result"
    }
   ],
   "source": [
    "pw.email"
   ]
  },
  {
   "cell_type": "code",
   "execution_count": 10,
   "id": "eae05e4e-b8ac-4065-a415-202255458727",
   "metadata": {},
   "outputs": [
    {
     "name": "stdout",
     "output_type": "stream",
     "text": [
      "soumo soumo7@gamil.com\n"
     ]
    }
   ],
   "source": [
    "pw.students_details()"
   ]
  },
  {
   "cell_type": "code",
   "execution_count": null,
   "id": "7900e240-36b1-474a-aeec-fb7c78327128",
   "metadata": {},
   "outputs": [],
   "source": []
  },
  {
   "cell_type": "code",
   "execution_count": 21,
   "id": "55e96c3d-1fb6-404a-b1a1-0f08945a409d",
   "metadata": {},
   "outputs": [],
   "source": [
    "class pwskill1 :\n",
    "    mobile_no = 9089080980\n",
    "    def __init__(self , name ,email):\n",
    "        \n",
    "        self.name = name\n",
    "        self.email = email \n",
    "    @classmethod\n",
    "    def change_mobile_no(cls,mobile):\n",
    "        pwskill1.mobile_no = mobile\n",
    "    @classmethod    \n",
    "    def details(cls , name , email):\n",
    "        return cls(name,email)\n",
    "    def students_details(self):\n",
    "        print(self.name , self.email ,pwskill1.mobile_no)"
   ]
  },
  {
   "cell_type": "code",
   "execution_count": null,
   "id": "35582257-9d5b-4f10-997e-69830a528176",
   "metadata": {},
   "outputs": [],
   "source": []
  },
  {
   "cell_type": "code",
   "execution_count": null,
   "id": "79b0c619-d9a0-4f52-bd3e-2ddd212903f3",
   "metadata": {},
   "outputs": [],
   "source": []
  },
  {
   "cell_type": "code",
   "execution_count": 22,
   "id": "97d3c622-b592-466b-8572-cc46ad1fcbd8",
   "metadata": {},
   "outputs": [],
   "source": [
    "pw =pwskill1.details(\"saea\" , \"saes@gmail.com\")"
   ]
  },
  {
   "cell_type": "code",
   "execution_count": null,
   "id": "50621eeb-b294-46ca-9805-be8e2010f0bf",
   "metadata": {},
   "outputs": [],
   "source": []
  },
  {
   "cell_type": "code",
   "execution_count": 24,
   "id": "394f21a9-a869-4ae7-8bb6-fe79725e592a",
   "metadata": {},
   "outputs": [
    {
     "name": "stdout",
     "output_type": "stream",
     "text": [
      "saea saes@gmail.com 9089080980\n"
     ]
    }
   ],
   "source": [
    "pw.students_details()"
   ]
  },
  {
   "cell_type": "code",
   "execution_count": null,
   "id": "f9134da7-a367-4a8a-9735-53a2916fd69f",
   "metadata": {},
   "outputs": [],
   "source": []
  },
  {
   "cell_type": "code",
   "execution_count": null,
   "id": "231432a7-68f4-4292-99aa-b20c0973320c",
   "metadata": {},
   "outputs": [],
   "source": []
  },
  {
   "cell_type": "code",
   "execution_count": null,
   "id": "9a068890-d03c-40a1-a6d0-9f2701d4f491",
   "metadata": {},
   "outputs": [],
   "source": []
  },
  {
   "cell_type": "code",
   "execution_count": 17,
   "id": "317b753b-cdb5-4e40-8804-71e385b30604",
   "metadata": {},
   "outputs": [
    {
     "data": {
      "text/plain": [
       "9830827890"
      ]
     },
     "execution_count": 17,
     "metadata": {},
     "output_type": "execute_result"
    }
   ],
   "source": [
    "pwskill1.mobile_no"
   ]
  },
  {
   "cell_type": "code",
   "execution_count": null,
   "id": "eecb9215-2c12-4ef1-a4a3-e7075aaf2d0f",
   "metadata": {},
   "outputs": [],
   "source": []
  },
  {
   "cell_type": "code",
   "execution_count": 16,
   "id": "6992c964-ecb7-4015-86a5-c370f75308ee",
   "metadata": {},
   "outputs": [],
   "source": [
    "pwskill1.change_mobile_no(9830827890)"
   ]
  },
  {
   "cell_type": "code",
   "execution_count": null,
   "id": "5bd34f4b-46eb-488a-ab81-295f6e7d406f",
   "metadata": {},
   "outputs": [],
   "source": []
  },
  {
   "cell_type": "code",
   "execution_count": null,
   "id": "2e1f3f48-f94c-40b0-b241-6012c7afb7fe",
   "metadata": {},
   "outputs": [],
   "source": []
  },
  {
   "cell_type": "code",
   "execution_count": null,
   "id": "f6ea8d66-92bc-4cbb-afb8-35d150b71a7a",
   "metadata": {},
   "outputs": [],
   "source": []
  },
  {
   "cell_type": "code",
   "execution_count": null,
   "id": "3de86181-e2df-4e0f-8f67-aba5f5260075",
   "metadata": {},
   "outputs": [],
   "source": []
  }
 ],
 "metadata": {
  "kernelspec": {
   "display_name": "Python 3 (ipykernel)",
   "language": "python",
   "name": "python3"
  },
  "language_info": {
   "codemirror_mode": {
    "name": "ipython",
    "version": 3
   },
   "file_extension": ".py",
   "mimetype": "text/x-python",
   "name": "python",
   "nbconvert_exporter": "python",
   "pygments_lexer": "ipython3",
   "version": "3.10.6"
  }
 },
 "nbformat": 4,
 "nbformat_minor": 5
}
