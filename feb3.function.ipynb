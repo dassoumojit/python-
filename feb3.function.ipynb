{
 "cells": [
  {
   "cell_type": "code",
   "execution_count": 3,
   "id": "398a498b-66f8-48c3-b3cf-587b07a44905",
   "metadata": {},
   "outputs": [],
   "source": [
    "def test():\n",
    "    print(\"this is my first function\")\n"
   ]
  },
  {
   "cell_type": "code",
   "execution_count": 4,
   "id": "19dacea2-660d-4f6e-acb0-0356f107a439",
   "metadata": {},
   "outputs": [
    {
     "name": "stdout",
     "output_type": "stream",
     "text": [
      "this is my first function\n"
     ]
    }
   ],
   "source": [
    "test()"
   ]
  },
  {
   "cell_type": "code",
   "execution_count": 8,
   "id": "74af2662-a0b4-4841-8d48-e554dc2b7637",
   "metadata": {},
   "outputs": [],
   "source": [
    "def test1():\n",
    "    return \"soumo\""
   ]
  },
  {
   "cell_type": "code",
   "execution_count": 9,
   "id": "559ed4f1-aa41-4d1f-8d70-a563018e6f27",
   "metadata": {},
   "outputs": [
    {
     "data": {
      "text/plain": [
       "'soumo'"
      ]
     },
     "execution_count": 9,
     "metadata": {},
     "output_type": "execute_result"
    }
   ],
   "source": [
    "test1()"
   ]
  },
  {
   "cell_type": "code",
   "execution_count": 10,
   "id": "b2d9b41e-d715-4300-92e1-ae7a989f3cfc",
   "metadata": {},
   "outputs": [
    {
     "data": {
      "text/plain": [
       "'soumotanaya'"
      ]
     },
     "execution_count": 10,
     "metadata": {},
     "output_type": "execute_result"
    }
   ],
   "source": [
    "test1() + \"tanaya\""
   ]
  },
  {
   "cell_type": "code",
   "execution_count": 11,
   "id": "ee78ae08-0f9a-41a9-888f-9e57b2b78480",
   "metadata": {},
   "outputs": [],
   "source": [
    "def test3():\n",
    "    return \"soumo\" , 23, 23.34 , [1,2,3,4]"
   ]
  },
  {
   "cell_type": "code",
   "execution_count": 12,
   "id": "36617f47-afe7-41b7-88d0-ce226e3b651a",
   "metadata": {},
   "outputs": [
    {
     "data": {
      "text/plain": [
       "('soumo', 23, 23.34, [1, 2, 3, 4])"
      ]
     },
     "execution_count": 12,
     "metadata": {},
     "output_type": "execute_result"
    }
   ],
   "source": [
    "test3()"
   ]
  },
  {
   "cell_type": "code",
   "execution_count": 14,
   "id": "838e3a0c-cd64-4244-98a6-b530258b3ac5",
   "metadata": {},
   "outputs": [],
   "source": [
    "a,b,c,d = test3()"
   ]
  },
  {
   "cell_type": "code",
   "execution_count": 15,
   "id": "c90e11a3-f6cb-44f3-ad72-8a6744a829b5",
   "metadata": {},
   "outputs": [
    {
     "data": {
      "text/plain": [
       "'soumo'"
      ]
     },
     "execution_count": 15,
     "metadata": {},
     "output_type": "execute_result"
    }
   ],
   "source": [
    "a"
   ]
  },
  {
   "cell_type": "code",
   "execution_count": 16,
   "id": "b0cff677-4384-4040-88fe-f5f28c815394",
   "metadata": {},
   "outputs": [
    {
     "data": {
      "text/plain": [
       "23"
      ]
     },
     "execution_count": 16,
     "metadata": {},
     "output_type": "execute_result"
    }
   ],
   "source": [
    "b"
   ]
  },
  {
   "cell_type": "code",
   "execution_count": 17,
   "id": "72eb9fb2-5714-4cd4-81c7-8e35adc59d1b",
   "metadata": {},
   "outputs": [
    {
     "data": {
      "text/plain": [
       "23.34"
      ]
     },
     "execution_count": 17,
     "metadata": {},
     "output_type": "execute_result"
    }
   ],
   "source": [
    "c"
   ]
  },
  {
   "cell_type": "code",
   "execution_count": 18,
   "id": "781ea598-ada2-4e27-84f3-49acc28d92f0",
   "metadata": {},
   "outputs": [
    {
     "data": {
      "text/plain": [
       "[1, 2, 3, 4]"
      ]
     },
     "execution_count": 18,
     "metadata": {},
     "output_type": "execute_result"
    }
   ],
   "source": [
    "d"
   ]
  },
  {
   "cell_type": "code",
   "execution_count": 20,
   "id": "80623611-4fdf-4bf8-9c83-515d6c61ebaa",
   "metadata": {},
   "outputs": [],
   "source": [
    "def test4():\n",
    "    a = 5+6/7\n",
    "    return a"
   ]
  },
  {
   "cell_type": "code",
   "execution_count": 21,
   "id": "8247ee4a-c98e-4a32-b980-52b43a74b0e9",
   "metadata": {},
   "outputs": [
    {
     "data": {
      "text/plain": [
       "5.857142857142857"
      ]
     },
     "execution_count": 21,
     "metadata": {},
     "output_type": "execute_result"
    }
   ],
   "source": [
    "test4()"
   ]
  },
  {
   "cell_type": "code",
   "execution_count": 22,
   "id": "35401723-5446-4928-ab6a-2fed98c06a5a",
   "metadata": {},
   "outputs": [],
   "source": [
    "def test5(a,b,c):\n",
    "    d= a+b/c \n",
    "    return d"
   ]
  },
  {
   "cell_type": "code",
   "execution_count": 24,
   "id": "675ef3c4-92fa-4c31-8318-5874c14f43c0",
   "metadata": {},
   "outputs": [
    {
     "data": {
      "text/plain": [
       "3.8"
      ]
     },
     "execution_count": 24,
     "metadata": {},
     "output_type": "execute_result"
    }
   ],
   "source": [
    "test5(3,4,5)"
   ]
  },
  {
   "cell_type": "code",
   "execution_count": 28,
   "id": "1621dac5-60b9-488e-9473-11a55453accf",
   "metadata": {},
   "outputs": [],
   "source": [
    "def test6(a,b):\n",
    "    return a+b"
   ]
  },
  {
   "cell_type": "code",
   "execution_count": 29,
   "id": "e33a6374-fbbb-4697-8f95-b317f1351743",
   "metadata": {},
   "outputs": [
    {
     "data": {
      "text/plain": [
       "13"
      ]
     },
     "execution_count": 29,
     "metadata": {},
     "output_type": "execute_result"
    }
   ],
   "source": [
    "test6(6,7)"
   ]
  },
  {
   "cell_type": "code",
   "execution_count": 34,
   "id": "96bf4a7f-d8f8-4677-bc87-ef24ae36e22c",
   "metadata": {},
   "outputs": [
    {
     "data": {
      "text/plain": [
       "'soumotanaya'"
      ]
     },
     "execution_count": 34,
     "metadata": {},
     "output_type": "execute_result"
    }
   ],
   "source": [
    "test6(\"soumo\" , \"tanaya\")"
   ]
  },
  {
   "cell_type": "code",
   "execution_count": 35,
   "id": "c67abd14-46c3-4ddb-83b1-8aa25c33974f",
   "metadata": {},
   "outputs": [],
   "source": [
    "l = [ 1,2,3,4, \"soumo\" , \"tanaya\" , [1,2,3,4]]"
   ]
  },
  {
   "cell_type": "code",
   "execution_count": 39,
   "id": "410eb51b-1a34-4417-9ad9-8f84fcedc0d1",
   "metadata": {},
   "outputs": [],
   "source": [
    "l1 = []\n",
    "for i in l :\n",
    "    if type(i) == int or type(i) == float:\n",
    "        l1.append(i)"
   ]
  },
  {
   "cell_type": "code",
   "execution_count": 40,
   "id": "d2a4b6e5-8b31-4ac2-ac43-b0efc0e80257",
   "metadata": {},
   "outputs": [
    {
     "data": {
      "text/plain": [
       "[1, 2, 3, 4]"
      ]
     },
     "execution_count": 40,
     "metadata": {},
     "output_type": "execute_result"
    }
   ],
   "source": [
    "l1"
   ]
  },
  {
   "cell_type": "code",
   "execution_count": 49,
   "id": "97362d6f-8a69-4949-ac71-66222ece6788",
   "metadata": {},
   "outputs": [],
   "source": [
    "def test7(l):\n",
    "    l1 = []\n",
    "    for i in l :\n",
    "        if type(i) == int or type(i) == float:\n",
    "            l1.append(i)\n",
    "    return l1"
   ]
  },
  {
   "cell_type": "code",
   "execution_count": 50,
   "id": "1aa42e80-b07c-4cf3-a4d6-424f13679dd8",
   "metadata": {},
   "outputs": [
    {
     "data": {
      "text/plain": [
       "[1, 2, 3, 4]"
      ]
     },
     "execution_count": 50,
     "metadata": {},
     "output_type": "execute_result"
    }
   ],
   "source": [
    "test7(l)"
   ]
  },
  {
   "cell_type": "code",
   "execution_count": 51,
   "id": "ff8bb13e-a656-4505-8a2c-a9c475bd0358",
   "metadata": {},
   "outputs": [
    {
     "data": {
      "text/plain": [
       "[1, 2, 3, 4, 'soumo', 'tanaya', [1, 2, 3, 4]]"
      ]
     },
     "execution_count": 51,
     "metadata": {},
     "output_type": "execute_result"
    }
   ],
   "source": [
    "l"
   ]
  },
  {
   "cell_type": "code",
   "execution_count": 52,
   "id": "a92c526e-a823-4966-9d80-4647e711214b",
   "metadata": {},
   "outputs": [],
   "source": [
    "def test8(a):\n",
    "    l = []\n",
    "    for i in a :\n",
    "        if type(i) == list :\n",
    "            for j in i :\n",
    "                l.append(j)\n",
    "        else :\n",
    "            if type(i) == int or type(i) == float:\n",
    "                l.append(i)\n",
    "    return l\n",
    "                "
   ]
  },
  {
   "cell_type": "code",
   "execution_count": 53,
   "id": "bc36780c-59c8-44c8-ae89-18d601826b20",
   "metadata": {},
   "outputs": [
    {
     "data": {
      "text/plain": [
       "[1, 2, 3, 4, 1, 2, 3, 4]"
      ]
     },
     "execution_count": 53,
     "metadata": {},
     "output_type": "execute_result"
    }
   ],
   "source": [
    "test8(l)"
   ]
  },
  {
   "cell_type": "code",
   "execution_count": null,
   "id": "d7a47a4d-56b7-43e6-9069-9f551b6d500e",
   "metadata": {},
   "outputs": [],
   "source": []
  },
  {
   "cell_type": "code",
   "execution_count": 56,
   "id": "83c1a926-3259-4da7-8737-97350f6f1031",
   "metadata": {
    "tags": []
   },
   "outputs": [],
   "source": [
    "def test9(a):\n",
    "    \"\"\"this is my fuction to extract numeric data from list\"\"\"\n",
    "    \n",
    "    l = []\n",
    "    for i in a :\n",
    "        if type(i) == list :\n",
    "            for j in i :\n",
    "                l.append(j)\n",
    "        else :\n",
    "            if type(i) == int or type(i) == float:\n",
    "                l.append(i)\n",
    "    return l\n",
    "                "
   ]
  },
  {
   "cell_type": "code",
   "execution_count": null,
   "id": "ce110cb9-f1ae-4ade-9b32-33768d772ded",
   "metadata": {},
   "outputs": [],
   "source": [
    "def test10(a,b):\n",
    "    return a+b"
   ]
  },
  {
   "cell_type": "code",
   "execution_count": 58,
   "id": "261a9368-8954-47c7-917c-fc6f599776b0",
   "metadata": {},
   "outputs": [],
   "source": [
    "def test11(*args):\n",
    "    return args"
   ]
  },
  {
   "cell_type": "code",
   "execution_count": 60,
   "id": "47f19785-72e3-45a7-8dae-56b6df818596",
   "metadata": {},
   "outputs": [
    {
     "data": {
      "text/plain": [
       "tuple"
      ]
     },
     "execution_count": 60,
     "metadata": {},
     "output_type": "execute_result"
    }
   ],
   "source": [
    "type(test11())"
   ]
  },
  {
   "cell_type": "code",
   "execution_count": 61,
   "id": "bdf528eb-4253-4b8b-bc0f-d5807cac152d",
   "metadata": {},
   "outputs": [
    {
     "data": {
      "text/plain": [
       "(1, 2, 3)"
      ]
     },
     "execution_count": 61,
     "metadata": {},
     "output_type": "execute_result"
    }
   ],
   "source": [
    "test11(1,2,3)"
   ]
  },
  {
   "cell_type": "code",
   "execution_count": 62,
   "id": "7c40b489-7289-45ca-8846-3cbbc225aff3",
   "metadata": {},
   "outputs": [
    {
     "data": {
      "text/plain": [
       "(1, 2, 3, 'soumo', 'tanaya', [1, 2, 3, 4, 5])"
      ]
     },
     "execution_count": 62,
     "metadata": {},
     "output_type": "execute_result"
    }
   ],
   "source": [
    "test11(1,2,3,\"soumo\" ,\"tanaya\" , [1,2,3,4,5])"
   ]
  },
  {
   "cell_type": "code",
   "execution_count": 64,
   "id": "54871fb5-50c6-461c-bd57-81492765c862",
   "metadata": {},
   "outputs": [],
   "source": [
    "def test12(*soumo) :\n",
    "    return soumo"
   ]
  },
  {
   "cell_type": "code",
   "execution_count": 65,
   "id": "7c206e17-7fc0-4b52-970d-551e60476547",
   "metadata": {},
   "outputs": [
    {
     "data": {
      "text/plain": [
       "(1, 2, 34, 55, 99)"
      ]
     },
     "execution_count": 65,
     "metadata": {},
     "output_type": "execute_result"
    }
   ],
   "source": [
    "test12(1,2,34,55,99)"
   ]
  },
  {
   "cell_type": "code",
   "execution_count": 67,
   "id": "dfff2309-add0-45af-badd-29ffa1a7df94",
   "metadata": {},
   "outputs": [],
   "source": [
    "def test15(**kwargs):\n",
    "    return kwargs"
   ]
  },
  {
   "cell_type": "code",
   "execution_count": 68,
   "id": "a8050553-4e74-4aba-a980-9e822aad10d7",
   "metadata": {},
   "outputs": [
    {
     "data": {
      "text/plain": [
       "{}"
      ]
     },
     "execution_count": 68,
     "metadata": {},
     "output_type": "execute_result"
    }
   ],
   "source": [
    "test15()"
   ]
  },
  {
   "cell_type": "code",
   "execution_count": 69,
   "id": "41533cbc-054c-4915-bc90-98f2f39309a4",
   "metadata": {},
   "outputs": [
    {
     "data": {
      "text/plain": [
       "dict"
      ]
     },
     "execution_count": 69,
     "metadata": {},
     "output_type": "execute_result"
    }
   ],
   "source": [
    "type(test15())"
   ]
  },
  {
   "cell_type": "code",
   "execution_count": 70,
   "id": "463726bd-a2a7-463b-8d67-eb3aebd554d5",
   "metadata": {},
   "outputs": [
    {
     "data": {
      "text/plain": [
       "{'a': 20, 'b': 'soumo', 'c': 23.456, 'd': [1, 2, 34, 5]}"
      ]
     },
     "execution_count": 70,
     "metadata": {},
     "output_type": "execute_result"
    }
   ],
   "source": [
    "test15(a=20, b = \"soumo\" , c = 23.456, d = [1,2,34,5])"
   ]
  },
  {
   "cell_type": "code",
   "execution_count": null,
   "id": "42f97579-1d87-4cd1-b68e-cf130d2b08a7",
   "metadata": {},
   "outputs": [],
   "source": []
  },
  {
   "cell_type": "code",
   "execution_count": null,
   "id": "38fa40ab-de8e-49fb-b8e9-2954294ae006",
   "metadata": {},
   "outputs": [],
   "source": []
  },
  {
   "cell_type": "code",
   "execution_count": null,
   "id": "ec2fabff-4b28-405f-88f2-caec3d16c156",
   "metadata": {},
   "outputs": [],
   "source": []
  },
  {
   "cell_type": "code",
   "execution_count": null,
   "id": "63b939c9-fbe3-41e8-ae0d-bcb7dbad2be3",
   "metadata": {},
   "outputs": [],
   "source": []
  },
  {
   "cell_type": "code",
   "execution_count": null,
   "id": "c0a4dce0-56bc-4769-8b5b-ea3d388d6cce",
   "metadata": {},
   "outputs": [],
   "source": []
  },
  {
   "cell_type": "code",
   "execution_count": null,
   "id": "a36b9c9e-a9b7-43f9-9506-a9497d2960eb",
   "metadata": {},
   "outputs": [],
   "source": []
  },
  {
   "cell_type": "code",
   "execution_count": null,
   "id": "a41986a9-202c-40ce-9af9-8e91aa2d96b6",
   "metadata": {},
   "outputs": [],
   "source": []
  },
  {
   "cell_type": "code",
   "execution_count": null,
   "id": "30d5c601-88d9-457c-9f57-1dde7ed92fab",
   "metadata": {},
   "outputs": [],
   "source": []
  },
  {
   "cell_type": "code",
   "execution_count": null,
   "id": "78f04f30-b638-4293-bfb3-9dad4271783a",
   "metadata": {},
   "outputs": [],
   "source": []
  },
  {
   "cell_type": "code",
   "execution_count": null,
   "id": "80023a4e-4020-466e-b402-bad6fb39ba56",
   "metadata": {},
   "outputs": [],
   "source": []
  },
  {
   "cell_type": "code",
   "execution_count": null,
   "id": "182bfe4a-f3db-4503-8cd8-328a0e936dd9",
   "metadata": {},
   "outputs": [],
   "source": []
  },
  {
   "cell_type": "code",
   "execution_count": null,
   "id": "437e953b-9bae-4f38-9387-75e2730579a9",
   "metadata": {},
   "outputs": [],
   "source": []
  },
  {
   "cell_type": "code",
   "execution_count": null,
   "id": "768bbcae-f2d3-458e-8b50-0c6c678f57cb",
   "metadata": {},
   "outputs": [],
   "source": []
  },
  {
   "cell_type": "code",
   "execution_count": null,
   "id": "2e6be9a7-49a1-4619-93d1-c348478523c9",
   "metadata": {},
   "outputs": [],
   "source": []
  },
  {
   "cell_type": "code",
   "execution_count": null,
   "id": "059d4593-42cd-4c41-9f9b-5df290cf8d1c",
   "metadata": {},
   "outputs": [],
   "source": []
  },
  {
   "cell_type": "code",
   "execution_count": null,
   "id": "c851e362-1bcf-468b-a43e-d961d9d4387b",
   "metadata": {},
   "outputs": [],
   "source": []
  },
  {
   "cell_type": "code",
   "execution_count": null,
   "id": "3b35eaf1-8d51-4fef-a125-a75ffdceb1d2",
   "metadata": {},
   "outputs": [],
   "source": []
  },
  {
   "cell_type": "code",
   "execution_count": null,
   "id": "e228bf3e-5c73-4dfb-b92f-aa75e19379a1",
   "metadata": {},
   "outputs": [],
   "source": []
  },
  {
   "cell_type": "code",
   "execution_count": null,
   "id": "2a0a092b-7ed4-4b0d-b69c-8b6bb0da7446",
   "metadata": {},
   "outputs": [],
   "source": []
  },
  {
   "cell_type": "code",
   "execution_count": null,
   "id": "4db6a2ec-df76-4964-8d71-d0682344ec1a",
   "metadata": {},
   "outputs": [],
   "source": []
  },
  {
   "cell_type": "code",
   "execution_count": null,
   "id": "2259fbb7-3c71-40ae-9ee3-205256a4ad2d",
   "metadata": {},
   "outputs": [],
   "source": []
  },
  {
   "cell_type": "code",
   "execution_count": null,
   "id": "5138c95f-c673-4b50-8805-59b6ef82460f",
   "metadata": {},
   "outputs": [],
   "source": []
  },
  {
   "cell_type": "code",
   "execution_count": null,
   "id": "10dfd85b-2a25-4acf-99b6-8df9910916f5",
   "metadata": {},
   "outputs": [],
   "source": []
  }
 ],
 "metadata": {
  "kernelspec": {
   "display_name": "Python 3 (ipykernel)",
   "language": "python",
   "name": "python3"
  },
  "language_info": {
   "codemirror_mode": {
    "name": "ipython",
    "version": 3
   },
   "file_extension": ".py",
   "mimetype": "text/x-python",
   "name": "python",
   "nbconvert_exporter": "python",
   "pygments_lexer": "ipython3",
   "version": "3.10.6"
  }
 },
 "nbformat": 4,
 "nbformat_minor": 5
}
